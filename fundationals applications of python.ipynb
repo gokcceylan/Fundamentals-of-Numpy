{
 "cells": [
  {
   "cell_type": "markdown",
   "metadata": {},
   "source": [
    "**Fundational Applications of Python**  \n",
    "This Jupyter Notebook showcases most common usages of the Python language and the Numpy library clearly with explanatory comments. Feel free to add new cells or change the already existing ones!"
   ]
  },
  {
   "cell_type": "markdown",
   "metadata": {},
   "source": [
    "**Question 1**. In the next cell, write a Python expression equivalent to this math expression:\n",
    "\n",
    "$$1 - \\frac{2^5}{7/3}$$\n"
   ]
  },
  {
   "cell_type": "code",
   "execution_count": 1,
   "metadata": {
    "scrolled": true
   },
   "outputs": [
    {
     "data": {
      "text/plain": [
       "-12.714285714285714"
      ]
     },
     "execution_count": 1,
     "metadata": {},
     "output_type": "execute_result"
    }
   ],
   "source": [
    "1 - (2**5 / (7/3))"
   ]
  },
  {
   "cell_type": "markdown",
   "metadata": {},
   "source": [
    "**Question 2**. The next line defines a, b, c, and d. Write the code that finds maximum, minimum, mean, and median of the values and print them."
   ]
  },
  {
   "cell_type": "code",
   "execution_count": 43,
   "metadata": {},
   "outputs": [],
   "source": [
    "a = 3.5\n",
    "b = 2\n",
    "c = 1\n",
    "d = 4"
   ]
  },
  {
   "cell_type": "code",
   "execution_count": 44,
   "metadata": {},
   "outputs": [],
   "source": [
    "array = [a, b, c, d]"
   ]
  },
  {
   "cell_type": "code",
   "execution_count": 45,
   "metadata": {},
   "outputs": [
    {
     "name": "stdout",
     "output_type": "stream",
     "text": [
      "4\n"
     ]
    }
   ],
   "source": [
    "max_val = max(array) #equals to the max value in array\n",
    "print(max_val) #max"
   ]
  },
  {
   "cell_type": "code",
   "execution_count": 46,
   "metadata": {},
   "outputs": [
    {
     "name": "stdout",
     "output_type": "stream",
     "text": [
      "1\n"
     ]
    }
   ],
   "source": [
    "min_val = min(array) #equals to the min value in array\n",
    "print(min_val) #min"
   ]
  },
  {
   "cell_type": "code",
   "execution_count": 47,
   "metadata": {},
   "outputs": [
    {
     "name": "stdout",
     "output_type": "stream",
     "text": [
      "2.625\n"
     ]
    }
   ],
   "source": [
    "avg = sum(array) / len(array)\n",
    "print(avg)"
   ]
  },
  {
   "cell_type": "code",
   "execution_count": 50,
   "metadata": {},
   "outputs": [
    {
     "name": "stdout",
     "output_type": "stream",
     "text": [
      "2.75\n"
     ]
    }
   ],
   "source": [
    "index = len(array)/2\n",
    "arr = sorted(array)\n",
    "\n",
    "#median can be calculated in two ways according to the number of elements in an array\n",
    "if len(arr)%2 == 0:\n",
    "    median = (arr[round(index) - 1] + arr[round(index)]) / 2\n",
    "else:\n",
    "    median = arr[round(index) - 1]\n",
    "    \n",
    "print(median)"
   ]
  },
  {
   "cell_type": "markdown",
   "metadata": {},
   "source": [
    "**Question 3**. a = [[1,2,3],[3,1,5]] and b = [[1,2],[0,2],[6,5]]. What is the result of a*b ?\n",
    "\n",
    "For matrix-matirx multiplications you can check https://mathinsight.org/matrix_vector_multiplication\n",
    "For this question, you should have two answers: 1) Solve the question using numpy library. 2) Solve the question without using any specific library."
   ]
  },
  {
   "cell_type": "code",
   "execution_count": 9,
   "metadata": {},
   "outputs": [
    {
     "name": "stdout",
     "output_type": "stream",
     "text": [
      "[[19 21]\n",
      " [33 33]]\n"
     ]
    }
   ],
   "source": [
    "# solution with numpy library\n",
    "import numpy as np\n",
    "a = np.array([[1,2,3],[3,1,5]])\n",
    "b = np.array([[1,2],[0,2],[6,5]])\n",
    "result = np.dot(a, b)\n",
    "print(result)"
   ]
  },
  {
   "cell_type": "code",
   "execution_count": 11,
   "metadata": {},
   "outputs": [
    {
     "name": "stdout",
     "output_type": "stream",
     "text": [
      "[[19, 21], [33, 33]]\n"
     ]
    }
   ],
   "source": [
    "# solution without any library\n",
    "a = [[1,2,3],[3,1,5]] #3x2\n",
    "b =  [[1,2],[0,2],[6,5]] #2x3\n",
    "result = [[0, 0], [0, 0]]\n",
    "# it is known that the end result's shape will be (2,2)\n",
    "# if result is not defined like that, we'll get an error\n",
    "\n",
    "# we'll iterate through each a-column and the corresponding b-row, multiply the corresponding elements,\n",
    "# and have the result's element as the sum of them\n",
    "\n",
    "for i in range(len(a)):\n",
    "    for j in range(len(b[0])): # why b[0] and not b -> because this loop iterates through the columns of b\n",
    "        for k in range(len(b)): # b and not b[0] because we want to iterate through the rows of b\n",
    "            result[i][j] += a[i][k] * b[k][j]\n",
    "print(result)"
   ]
  },
  {
   "cell_type": "markdown",
   "metadata": {},
   "source": [
    "**Question 4.** A famous fact in mathematics is that\n",
    "\n",
    "$$(1 + \\frac{1}{n})^{n}$$\n",
    "\n",
    "gets very close to the number $e$, which is roughly $2.718$, when $n$ is large.  Use this fact to compute an approximation to $e$.  Your approximation should be correct to at least 5 decimal places. Calculate how much your score is different than actual $e$ (do not use 2.718 for this calculation)"
   ]
  },
  {
   "cell_type": "code",
   "execution_count": 35,
   "metadata": {},
   "outputs": [
    {
     "name": "stdout",
     "output_type": "stream",
     "text": [
      "The e value we found is 2.7182804678952026\n",
      "The actual e value is approximately 2.718281828459045\n",
      "Difference is 1.3605638424785127e-06\n"
     ]
    }
   ],
   "source": [
    "# Write your answer here\n",
    "import numpy as np\n",
    "import math as m\n",
    "\n",
    "n = 999000 # to make it easier to change afterwards we want to store it as a variable\n",
    "our_e = 0 # has to be initialized\n",
    "our_e += (1 + 1/n)**n\n",
    "delta = m.e - our_e # change is calculated\n",
    "text = \"The e value we found is {}\\nThe actual e value is approximately {}\\nDifference is {}\".format(our_e, m.e, delta)\n",
    "\n",
    "print(text)"
   ]
  },
  {
   "cell_type": "markdown",
   "metadata": {},
   "source": [
    "**Question 5.** Fibonacci numbers have the following formula: f(n) = f(n-1) + f(n-2) where f(0)=0 and f(1)=1.  Write a function which takes a single parameter and returns fibonacci value of it. "
   ]
  },
  {
   "cell_type": "code",
   "execution_count": 56,
   "metadata": {},
   "outputs": [
    {
     "name": "stdout",
     "output_type": "stream",
     "text": [
      "Please enter number N that you want to find the Fibonacci value of: 9\n",
      "Fibonacci value of 9 is 34\n"
     ]
    }
   ],
   "source": [
    "# Write your answer here\n",
    "def fibonacci(val):\n",
    "# i preferred to use recursion because i think a function such as f(n) = f(n-1) + f(n-2) is the perfect example of its usage\n",
    "    if val <= 1:\n",
    "    # base condition\n",
    "       return val\n",
    "    else:\n",
    "    \n",
    "       return(fibonacci(val-1) + fibonacci(val-2))\n",
    "\n",
    "\n",
    "val = int(input(\"Please enter number N that you want to find the Fibonacci value of: \"))\n",
    "fib_val = fibonacci(val)\n",
    "print(\"Fibonacci value of {} is {}\".format(val, fib_val))"
   ]
  },
  {
   "cell_type": "markdown",
   "metadata": {},
   "source": [
    "**Question 6.** For each cell below, write #CORRECT next to the expression in the cell if it evaluates to 99. Otherwise, rewrite the expression so that it does evaluate to 99. To fix expressions, you can only add operators, commas, and parentheses."
   ]
  },
  {
   "cell_type": "code",
   "execution_count": 60,
   "metadata": {},
   "outputs": [],
   "source": [
    "x=10 # don't change this line"
   ]
  },
  {
   "cell_type": "code",
   "execution_count": 62,
   "metadata": {},
   "outputs": [
    {
     "data": {
      "text/plain": [
       "99"
      ]
     },
     "execution_count": 62,
     "metadata": {},
     "output_type": "execute_result"
    }
   ],
   "source": [
    "10*x - 1\n",
    "# not correct because * was missing"
   ]
  },
  {
   "cell_type": "code",
   "execution_count": 64,
   "metadata": {},
   "outputs": [
    {
     "data": {
      "text/plain": [
       "99"
      ]
     },
     "execution_count": 64,
     "metadata": {},
     "output_type": "execute_result"
    }
   ],
   "source": [
    "(x)*(x) - 1\n",
    "# not correct because * was missing"
   ]
  },
  {
   "cell_type": "code",
   "execution_count": 66,
   "metadata": {},
   "outputs": [
    {
     "data": {
      "text/plain": [
       "99"
      ]
     },
     "execution_count": 66,
     "metadata": {},
     "output_type": "execute_result"
    }
   ],
   "source": [
    "11 * x - (x + 1)\n",
    "# not true because 11*10 - 10 + 1 = 110 - 9 = 101 when it should have been 11*10-(10+1)"
   ]
  },
  {
   "cell_type": "code",
   "execution_count": 68,
   "metadata": {},
   "outputs": [
    {
     "data": {
      "text/plain": [
       "99"
      ]
     },
     "execution_count": 68,
     "metadata": {},
     "output_type": "execute_result"
    }
   ],
   "source": [
    "abs(x * x) - abs(9 - x) #CORRECT"
   ]
  },
  {
   "cell_type": "code",
   "execution_count": 70,
   "metadata": {},
   "outputs": [
    {
     "data": {
      "text/plain": [
       "99"
      ]
     },
     "execution_count": 70,
     "metadata": {},
     "output_type": "execute_result"
    }
   ],
   "source": [
    "abs(-99)\n",
    "# abs() is a function and -99 was not given to abs() as an argument hence we get a type error"
   ]
  },
  {
   "cell_type": "code",
   "execution_count": 72,
   "metadata": {},
   "outputs": [
    {
     "data": {
      "text/plain": [
       "99"
      ]
     },
     "execution_count": 72,
     "metadata": {},
     "output_type": "execute_result"
    }
   ],
   "source": [
    "pow(x, 2) - 1\n",
    "# pow() function is used incorrectly hence we get a syntax error"
   ]
  },
  {
   "cell_type": "markdown",
   "metadata": {},
   "source": [
    "**Question 7.** Halley's comet last passed near Earth on February 9, 1986, which was a Sunday. Astronomers have calculated its next pass near Earth will come 27,563 days after that day. What day of the week will that be?"
   ]
  },
  {
   "cell_type": "code",
   "execution_count": 15,
   "metadata": {},
   "outputs": [
    {
     "name": "stdout",
     "output_type": "stream",
     "text": [
      "Halley's comet will pass near Earth on 4# day of the week.\n"
     ]
    }
   ],
   "source": [
    "weeks = 27563/7\n",
    "after_day = 27563%7\n",
    "# date doesn't matter. the only thing that matters is the modulus 7 of 27563\n",
    "# if after_day = 1 it means it's the day after sunday which is monday\n",
    "# if after_day = 2 it means it's the day after day after sunday which is tuesday\n",
    "## and so on\n",
    "print(\"Halley's comet will pass near Earth on \" + str(after_day) + \"# day of the week.\") #thursday"
   ]
  },
  {
   "cell_type": "markdown",
   "metadata": {},
   "source": [
    "**Question 8.** Make an array called containing the following numbers (in the given order):\n",
    "\n",
    "1. -5\n",
    "2. 5 to the power of the sine of 1.3\n",
    "3. the cosine of 1.2\n",
    "4. 5\n",
    "\n",
    "Hint: sin and cos are functions in the math module."
   ]
  },
  {
   "cell_type": "code",
   "execution_count": 13,
   "metadata": {},
   "outputs": [
    {
     "name": "stdout",
     "output_type": "stream",
     "text": [
      "-5\n",
      "4.71517992010584\n",
      "0.3623577544766736\n",
      "5\n"
     ]
    }
   ],
   "source": [
    "import math\n",
    "num1 = -5\n",
    "num2 = 5 ** math.sin(1.3)\n",
    "num3 = math.cos(1.2)\n",
    "num4 = 5\n",
    "array = [num1, num2, num3, num4]\n",
    "for i in array:\n",
    "    print(i)"
   ]
  },
  {
   "cell_type": "markdown",
   "metadata": {},
   "source": [
    "**Question 9.** Multiply the numbers 3, 5, 7, and -4 by 6 using an array and only a single multiplication (*) operator. Put the 4 results in an array and print the array"
   ]
  },
  {
   "cell_type": "code",
   "execution_count": 10,
   "metadata": {},
   "outputs": [
    {
     "name": "stdout",
     "output_type": "stream",
     "text": [
      "[ 18  30  42 -24]\n"
     ]
    }
   ],
   "source": [
    "import numpy as np\n",
    "arr = np.array([3, 5, 7, -4])\n",
    "arr *= 6 # numpy arrays can be multiplied mathematically instead of concetanetion with * operator\n",
    "print(arr)"
   ]
  }
 ],
 "metadata": {
  "kernelspec": {
   "display_name": "Python 3",
   "language": "python",
   "name": "python3"
  },
  "language_info": {
   "codemirror_mode": {
    "name": "ipython",
    "version": 3
   },
   "file_extension": ".py",
   "mimetype": "text/x-python",
   "name": "python",
   "nbconvert_exporter": "python",
   "pygments_lexer": "ipython3",
   "version": "3.7.6"
  }
 },
 "nbformat": 4,
 "nbformat_minor": 1
}
